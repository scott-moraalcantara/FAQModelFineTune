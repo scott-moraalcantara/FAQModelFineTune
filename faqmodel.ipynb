{
 "cells": [
  {
   "cell_type": "code",
   "execution_count": 66,
   "metadata": {},
   "outputs": [],
   "source": [
    "import os\n",
    "import pandas as pd\n",
    "import json\n",
    "from openai import OpenAI\n",
    "import openai\n",
    "from dotenv import load_dotenv\n",
    "\n",
    "# Load environment variables from .env \n",
    "load_dotenv()\n",
    "\n",
    "# Access the API key from environment variables\n",
    "api_key = os.getenv(\"OPENAI_API_KEY\")\n",
    "# Set the OpenAI API key\n",
    "os.environ['OPENAI_API_KEY'] = api_key\n",
    "#API Key to OpenAI Library\n",
    "openai.api_key = os.getenv(\"OPENAI_API_KEY\")"
   ]
  },
  {
   "cell_type": "code",
   "execution_count": 58,
   "metadata": {},
   "outputs": [],
   "source": [
    "train_df = pd.read_parquet(\"hf://datasets/kuroschin/airline-customer-support/data/train-00000-of-00001.parquet\")"
   ]
  },
  {
   "cell_type": "code",
   "execution_count": 67,
   "metadata": {},
   "outputs": [
    {
     "name": "stdout",
     "output_type": "stream",
     "text": [
      "Dataset converted and saved to training.jsonl\n"
     ]
    }
   ],
   "source": [
    "output_file = 'training.jsonl'\n",
    "with open(output_file, 'w') as f:\n",
    "    for _, row in train_df.iterrows():\n",
    "        json_line = json.dumps({\n",
    "        \"messages\": [\n",
    "            {\"role\": \"system\", \"content\": \"You are a helpful assistant as FAQ support.\"},\n",
    "            {\"role\": \"user\", \"content\": row[\"input\"]},\n",
    "            {\"role\": \"assistant\", \"content\": row[\"output\"]}\n",
    "            ]\n",
    "        })\n",
    "        f.write(json_line + '\\n')\n",
    "\n",
    "print(f\"Dataset converted and saved to {output_file}\")"
   ]
  },
  {
   "cell_type": "code",
   "execution_count": null,
   "metadata": {},
   "outputs": [],
   "source": []
  }
 ],
 "metadata": {
  "language_info": {
   "name": "python"
  },
  "orig_nbformat": 4
 },
 "nbformat": 4,
 "nbformat_minor": 2
}
