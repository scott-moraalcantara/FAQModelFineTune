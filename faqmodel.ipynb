{
 "cells": [
  {
   "cell_type": "code",
   "execution_count": 7,
   "metadata": {},
   "outputs": [],
   "source": [
    "import os\n",
    "import pandas as pd\n",
    "import json\n",
    "from openai import OpenAI\n",
    "import openai\n",
    "from dotenv import load_dotenv\n",
    "\n",
    "# Load environment variables from .env \n",
    "load_dotenv()\n",
    "\n",
    "# Access the API key from environment variables\n",
    "api_key = os.getenv(\"OPENAI_API_KEY\")\n",
    "# Set the OpenAI API key\n",
    "os.environ['OPENAI_API_KEY'] = api_key\n",
    "#API Key to OpenAI Library\n",
    "openai.api_key = os.getenv(\"OPENAI_API_KEY\")"
   ]
  },
  {
   "cell_type": "code",
   "execution_count": 8,
   "metadata": {},
   "outputs": [],
   "source": [
    "train_df = pd.read_parquet(\"hf://datasets/kuroschin/airline-customer-support/data/train-00000-of-00001.parquet\")"
   ]
  },
  {
   "cell_type": "code",
   "execution_count": 9,
   "metadata": {},
   "outputs": [
    {
     "name": "stdout",
     "output_type": "stream",
     "text": [
      "Dataset converted and saved to training.jsonl\n"
     ]
    }
   ],
   "source": [
    "output_file = 'training.jsonl'\n",
    "with open(output_file, 'w') as f:\n",
    "    for _, row in train_df.iterrows():\n",
    "        json_line = json.dumps({\n",
    "        \"messages\": [\n",
    "            {\"role\": \"system\", \"content\": \"You are a helpful assistant as FAQ support.\"},\n",
    "            {\"role\": \"user\", \"content\": row[\"input\"]},\n",
    "            {\"role\": \"assistant\", \"content\": row[\"output\"]}\n",
    "            ]\n",
    "        })\n",
    "        f.write(json_line + '\\n')\n",
    "\n",
    "print(f\"Dataset converted and saved to {output_file}\")"
   ]
  },
  {
   "cell_type": "code",
   "execution_count": 22,
   "metadata": {},
   "outputs": [],
   "source": [
    "client = OpenAI()"
   ]
  },
  {
   "cell_type": "code",
   "execution_count": 23,
   "metadata": {},
   "outputs": [
    {
     "name": "stdout",
     "output_type": "stream",
     "text": [
      "File uploaded successfully. File ID: file-Vk9kQcqp2CVEG2zMVQxsJw\n"
     ]
    }
   ],
   "source": [
    "uploaded_file = client.files.create(\n",
    "    file=open(output_file, \"rb\"),\n",
    "    purpose=\"fine-tune\"\n",
    ")\n",
    "print(f\"File uploaded successfully. File ID: {uploaded_file.id}\")"
   ]
  },
  {
   "cell_type": "code",
   "execution_count": 24,
   "metadata": {},
   "outputs": [
    {
     "name": "stdout",
     "output_type": "stream",
     "text": [
      "Fine-tuning job started. Job ID: ftjob-DhFZltTShabcnh4BaIeWMXmC\n"
     ]
    }
   ],
   "source": [
    "fine_tune_job = client.fine_tuning.jobs.create(\n",
    "    training_file=uploaded_file.id,\n",
    "    suffix=\"custom-fine-tuned-model\",\n",
    "    model=\"gpt-4o-mini-2024-07-18\" \n",
    ")\n",
    "print(f\"Fine-tuning job started. Job ID: {fine_tune_job.id}\")"
   ]
  },
  {
   "cell_type": "markdown",
   "metadata": {},
   "source": [
    "## List of fine-tuning jobs, get job details"
   ]
  },
  {
   "cell_type": "code",
   "execution_count": 25,
   "metadata": {},
   "outputs": [
    {
     "name": "stdout",
     "output_type": "stream",
     "text": [
      "Recent fine-tuning jobs: SyncCursorPage[FineTuningJob](data=[FineTuningJob(id='ftjob-DhFZltTShabcnh4BaIeWMXmC', created_at=1735446440, error=Error(code=None, message=None, param=None), fine_tuned_model=None, finished_at=None, hyperparameters=Hyperparameters(batch_size='auto', learning_rate_multiplier='auto', n_epochs='auto'), model='gpt-4o-mini-2024-07-18', object='fine_tuning.job', organization_id='org-irqPgDHDyaL9rgQQ62IoNn4R', result_files=[], seed=1744134386, status='validating_files', trained_tokens=None, training_file='file-Vk9kQcqp2CVEG2zMVQxsJw', validation_file=None, estimated_finish=None, integrations=[], method=Method(dpo=None, supervised=MethodSupervised(hyperparameters=MethodSupervisedHyperparameters(batch_size='auto', learning_rate_multiplier='auto', n_epochs='auto')), type='supervised'), user_provided_suffix='custom-fine-tuned-model'), FineTuningJob(id='ftjob-3efBSbA5ik0ApGCSXaXxwEON', created_at=1735446078, error=Error(code=None, message=None, param=None), fine_tuned_model=None, finished_at=None, hyperparameters=Hyperparameters(batch_size=1, learning_rate_multiplier=1.8, n_epochs=3), model='gpt-4o-mini-2024-07-18', object='fine_tuning.job', organization_id='org-irqPgDHDyaL9rgQQ62IoNn4R', result_files=[], seed=1777876323, status='running', trained_tokens=None, training_file='file-7EeJ3SGr26yjW9NbrVKdAs', validation_file=None, estimated_finish=None, integrations=[], method=Method(dpo=None, supervised=MethodSupervised(hyperparameters=MethodSupervisedHyperparameters(batch_size=1, learning_rate_multiplier=1.8, n_epochs=3)), type='supervised'), user_provided_suffix='custom-fine-tuned-model'), FineTuningJob(id='ftjob-JG4WldiYAqKgIvu1G91GJgRw', created_at=1735445824, error=Error(code=None, message=None, param=None), fine_tuned_model='ft:gpt-4o-mini-2024-07-18:llmprojects:custom-fine-tuned-model:Ajf9Drb2', finished_at=1735446293, hyperparameters=Hyperparameters(batch_size=1, learning_rate_multiplier=1.8, n_epochs=3), model='gpt-4o-mini-2024-07-18', object='fine_tuning.job', organization_id='org-irqPgDHDyaL9rgQQ62IoNn4R', result_files=['file-2B86UQHAyDjxRTsjPd55ax'], seed=898976244, status='succeeded', trained_tokens=8670, training_file='file-7EeJ3SGr26yjW9NbrVKdAs', validation_file=None, estimated_finish=None, integrations=[], method=Method(dpo=None, supervised=MethodSupervised(hyperparameters=MethodSupervisedHyperparameters(batch_size=1, learning_rate_multiplier=1.8, n_epochs=3)), type='supervised'), user_provided_suffix='custom-fine-tuned-model'), FineTuningJob(id='ftjob-KqIoKe9cyAopniegfBzHfGNe', created_at=1735104203, error=Error(code=None, message=None, param=None), fine_tuned_model='ft:gpt-4o-mini-2024-07-18:llmprojects:guided-project-faq:AiEIqTAQ', finished_at=1735104774, hyperparameters=Hyperparameters(batch_size=1, learning_rate_multiplier=1.8, n_epochs=10), model='gpt-4o-mini-2024-07-18', object='fine_tuning.job', organization_id='org-irqPgDHDyaL9rgQQ62IoNn4R', result_files=['file-CWWQRarf5N8QhQdGibPJnC'], seed=40, status='succeeded', trained_tokens=6570, training_file='file-EsdiQX6mpe385nubkKJdvk', validation_file=None, estimated_finish=None, integrations=[], method=Method(dpo=None, supervised=MethodSupervised(hyperparameters=MethodSupervisedHyperparameters(batch_size=1, learning_rate_multiplier=1.8, n_epochs=10)), type='supervised'), user_provided_suffix='Guided-Project-FAQ')], object='list', has_more=False)\n"
     ]
    }
   ],
   "source": [
    "# List fine-tuning jobs\n",
    "jobs = client.fine_tuning.jobs.list(limit=10)\n",
    "print(\"Recent fine-tuning jobs:\", jobs)"
   ]
  },
  {
   "cell_type": "markdown",
   "metadata": {},
   "source": [
    "## Get job details \n",
    "\n"
   ]
  },
  {
   "cell_type": "code",
   "execution_count": 26,
   "metadata": {},
   "outputs": [
    {
     "name": "stdout",
     "output_type": "stream",
     "text": [
      "Fine-tuning job details: FineTuningJob(id='ftjob-DhFZltTShabcnh4BaIeWMXmC', created_at=1735446440, error=Error(code=None, message=None, param=None), fine_tuned_model=None, finished_at=None, hyperparameters=Hyperparameters(batch_size='auto', learning_rate_multiplier='auto', n_epochs='auto'), model='gpt-4o-mini-2024-07-18', object='fine_tuning.job', organization_id='org-irqPgDHDyaL9rgQQ62IoNn4R', result_files=[], seed=1744134386, status='validating_files', trained_tokens=None, training_file='file-Vk9kQcqp2CVEG2zMVQxsJw', validation_file=None, estimated_finish=None, integrations=[], method=Method(dpo=None, supervised=MethodSupervised(hyperparameters=MethodSupervisedHyperparameters(batch_size='auto', learning_rate_multiplier='auto', n_epochs='auto')), type='supervised'), user_provided_suffix='custom-fine-tuned-model')\n"
     ]
    }
   ],
   "source": [
    "# Retrieve job details\n",
    "job_details = client.fine_tuning.jobs.retrieve(fine_tune_job.id)\n",
    "print(\"Fine-tuning job details:\", job_details)"
   ]
  },
  {
   "cell_type": "code",
   "execution_count": 28,
   "metadata": {},
   "outputs": [
    {
     "name": "stdout",
     "output_type": "stream",
     "text": [
      "Fine-tuning job details: FineTuningJob(id='ftjob-DhFZltTShabcnh4BaIeWMXmC', created_at=1735446440, error=Error(code=None, message=None, param=None), fine_tuned_model=None, finished_at=None, hyperparameters=Hyperparameters(batch_size=1, learning_rate_multiplier=1.8, n_epochs=3), model='gpt-4o-mini-2024-07-18', object='fine_tuning.job', organization_id='org-irqPgDHDyaL9rgQQ62IoNn4R', result_files=[], seed=1744134386, status='running', trained_tokens=None, training_file='file-Vk9kQcqp2CVEG2zMVQxsJw', validation_file=None, estimated_finish=None, integrations=[], method=Method(dpo=None, supervised=MethodSupervised(hyperparameters=MethodSupervisedHyperparameters(batch_size=1, learning_rate_multiplier=1.8, n_epochs=3)), type='supervised'), user_provided_suffix='custom-fine-tuned-model')\n"
     ]
    }
   ],
   "source": [
    "# Retrieve after model is trained to get the model name\n",
    "job_details = client.fine_tuning.jobs.retrieve(fine_tune_job.id)\n",
    "print(\"Fine-tuning job details:\", job_details)"
   ]
  },
  {
   "cell_type": "code",
   "execution_count": 35,
   "metadata": {},
   "outputs": [
    {
     "name": "stdout",
     "output_type": "stream",
     "text": [
      "Fine-tuned model response: To check in online, visit our website or mobile app and enter your booking reference and last name. Follow the prompts to complete the check-in process.\n"
     ]
    }
   ],
   "source": [
    "completion = client.chat.completions.create(\n",
    "    model=\"ft:gpt-4o-mini-2024-07-18:llmprojects:custom-fine-tuned-model:AjfIKSw3\",\n",
    "    # Replace with the actual model name retrieved in above cell fine_tuned_model='ft:gpt-4o-mini-2024-07-18:personal:custom-fine-tuned-model:AbOWr1n9'\n",
    "    messages=[\n",
    "        {\"role\": \"system\", \"content\": \"You are a helpful assistant which acts as FAQ Support Assistant.\"},\n",
    "        {\"role\": \"user\", \"content\": \"How do I check in online?\"}\n",
    "    ]\n",
    ")\n",
    "print(\"Fine-tuned model response:\", completion.choices[0].message.content)"
   ]
  }
 ],
 "metadata": {
  "kernelspec": {
   "display_name": "Python 3.9.21 ('base')",
   "language": "python",
   "name": "python3"
  },
  "language_info": {
   "codemirror_mode": {
    "name": "ipython",
    "version": 3
   },
   "file_extension": ".py",
   "mimetype": "text/x-python",
   "name": "python",
   "nbconvert_exporter": "python",
   "pygments_lexer": "ipython3",
   "version": "3.9.21"
  },
  "orig_nbformat": 4,
  "vscode": {
   "interpreter": {
    "hash": "0a574bbff0e6b10d854b95c9eda83fab3c2cdb76b40984feca762b0cd3c02cf3"
   }
  }
 },
 "nbformat": 4,
 "nbformat_minor": 2
}
